{
 "cells": [
  {
   "cell_type": "markdown",
   "metadata": {},
   "source": [
    "# Exam R\n",
    "Mark Klik & Misja Mikkers\n",
    "\n",
    "# Introduction\n",
    "\n",
    "Before you turn this problem in, make sure everything runs as expected. First, **restart the kernel** (in the menubar, select Kernel$\\rightarrow$Restart) and then **run all cells** (in the menubar, select Cell$\\rightarrow$Run All).\n",
    "\n",
    "Make sure you fill in any place that says `YOUR CODE HERE` or \"YOUR ANSWER HERE\", as well as your name and collaborators below:\n"
   ]
  },
  {
   "cell_type": "code",
   "execution_count": 9,
   "metadata": {},
   "outputs": [],
   "source": [
    "NAME = \"Koen de boer #2013150#\"\n",
    "COLLABORATORS = \"\""
   ]
  },
  {
   "cell_type": "markdown",
   "metadata": {},
   "source": [
    "Fill in the cell above to provide us with your name and student number, like\n",
    "\n",
    "NAME = \"Adam Smith, #student number#\"\n",
    "\n",
    "where you replace \"#student number#\" with your ... (very good!)\n",
    "\n",
    "Unfortunately, you are not allowed to work with \"COLLABORATORS\" in this exam.\n",
    "\n",
    "## exam October 26th, 2018\n",
    "\n",
    "With this R part of the exam you can earn at max. 4 points.\n",
    "\n",
    "In the first cell of the notebook, give us your name and student number in the way indicated above.\n",
    "\n",
    "Fill in the notebook (see below for code cells and text cells that you need to fill in).\n",
    "\n",
    "If you look at the menus above (File, Edit, View etc.), there is one called \"Cell\". If you click on this, you can change the \"Cell Type\". Choose \"Code\" when you are typing python or R code. Choose \"Markdown\" when you are typing, well, markdown.\n",
    "\n",
    "When you finish the notebook, make sure that you save it with the output of your code included.\n",
    "\n",
    "Then put it on github, e.g. by dragging it onto github (see instructions below).\n",
    "\n",
    "Finally, add a link to your README file with the name of this exam: \"Exam R September 7, 2018\".\n",
    "\n",
    "# Packages\n",
    "\n",
    "You will need the following packages for this exam."
   ]
  },
  {
   "cell_type": "code",
   "execution_count": 6,
   "metadata": {},
   "outputs": [
    {
     "name": "stderr",
     "output_type": "stream",
     "text": [
      "-- Attaching packages --------------------------------------- tidyverse 1.2.1 --\n",
      "v ggplot2 2.2.1     v purrr   0.2.4\n",
      "v tibble  1.4.1     v dplyr   0.7.4\n",
      "v tidyr   0.7.2     v stringr 1.2.0\n",
      "v readr   1.1.1     v forcats 0.2.0\n",
      "-- Conflicts ------------------------------------------ tidyverse_conflicts() --\n",
      "x dplyr::filter() masks stats::filter()\n",
      "x dplyr::lag()    masks stats::lag()\n"
     ]
    }
   ],
   "source": [
    "library(tidyverse)"
   ]
  },
  {
   "cell_type": "markdown",
   "metadata": {},
   "source": [
    "# Assignment 1\n",
    "\n",
    "## Data\n",
    "\n",
    "Please read in \"resit.csv\" and check the structure.\n",
    "\n",
    "If needed change the variables e and x1 into a numeric variable.\n",
    "\n",
    "Hint: don't forget you cannot change a factor in a numeric variable directly!\n"
   ]
  },
  {
   "cell_type": "code",
   "execution_count": 5,
   "metadata": {},
   "outputs": [
    {
     "name": "stdout",
     "output_type": "stream",
     "text": [
      "'data.frame':\t100 obs. of  3 variables:\n",
      " $ Obs: int  1 2 3 4 5 6 7 8 9 10 ...\n",
      " $ e  : num  47 58.9 55.6 51.5 49.2 ...\n",
      " $ x1 : num  0.3 23.39 9.4 5.24 4.63 ...\n"
     ]
    }
   ],
   "source": [
    "resit <- read.csv2(\"../Downloads/resit.csv\")\n",
    "str(resit)"
   ]
  },
  {
   "cell_type": "code",
   "execution_count": 2,
   "metadata": {},
   "outputs": [
    {
     "name": "stdout",
     "output_type": "stream",
     "text": [
      "'data.frame':\t100 obs. of  3 variables:\n",
      " $ Obs: int  1 2 3 4 5 6 7 8 9 10 ...\n",
      " $ e  : num  47 58.9 55.6 51.5 49.2 ...\n",
      " $ x1 : num  0.3 23.39 9.4 5.24 4.63 ...\n"
     ]
    }
   ],
   "source": [
    "str(resit)"
   ]
  },
  {
   "cell_type": "markdown",
   "metadata": {},
   "source": [
    "# Data manipulation\n",
    "\n",
    "We will construct the variable \"y\". You have to create the variable \"y\" with the formula:\n",
    "\n",
    "$$ 10 + 3*x1 + e $$\n",
    "\n",
    "Show the head of your data"
   ]
  },
  {
   "cell_type": "code",
   "execution_count": 7,
   "metadata": {},
   "outputs": [
    {
     "data": {
      "text/html": [
       "<table>\n",
       "<thead><tr><th scope=col>Obs</th><th scope=col>e</th><th scope=col>x1</th><th scope=col>y</th></tr></thead>\n",
       "<tbody>\n",
       "\t<tr><td>1         </td><td>47.00774  </td><td> 0.3003487</td><td> 57.90879 </td></tr>\n",
       "\t<tr><td>2         </td><td>58.86894  </td><td>23.3893148</td><td>139.03688 </td></tr>\n",
       "\t<tr><td>3         </td><td>55.57487  </td><td> 9.3985674</td><td> 93.77057 </td></tr>\n",
       "\t<tr><td>4         </td><td>51.54298  </td><td> 5.2412200</td><td> 77.26664 </td></tr>\n",
       "\t<tr><td>5         </td><td>49.23160  </td><td> 4.6296740</td><td> 73.12062 </td></tr>\n",
       "\t<tr><td>6         </td><td>51.38015  </td><td>21.6645190</td><td>126.37371 </td></tr>\n",
       "</tbody>\n",
       "</table>\n"
      ],
      "text/latex": [
       "\\begin{tabular}{r|llll}\n",
       " Obs & e & x1 & y\\\\\n",
       "\\hline\n",
       "\t 1          & 47.00774   &  0.3003487 &  57.90879 \\\\\n",
       "\t 2          & 58.86894   & 23.3893148 & 139.03688 \\\\\n",
       "\t 3          & 55.57487   &  9.3985674 &  93.77057 \\\\\n",
       "\t 4          & 51.54298   &  5.2412200 &  77.26664 \\\\\n",
       "\t 5          & 49.23160   &  4.6296740 &  73.12062 \\\\\n",
       "\t 6          & 51.38015   & 21.6645190 & 126.37371 \\\\\n",
       "\\end{tabular}\n"
      ],
      "text/markdown": [
       "\n",
       "Obs | e | x1 | y | \n",
       "|---|---|---|---|---|---|\n",
       "| 1          | 47.00774   |  0.3003487 |  57.90879  | \n",
       "| 2          | 58.86894   | 23.3893148 | 139.03688  | \n",
       "| 3          | 55.57487   |  9.3985674 |  93.77057  | \n",
       "| 4          | 51.54298   |  5.2412200 |  77.26664  | \n",
       "| 5          | 49.23160   |  4.6296740 |  73.12062  | \n",
       "| 6          | 51.38015   | 21.6645190 | 126.37371  | \n",
       "\n",
       "\n"
      ],
      "text/plain": [
       "  Obs e        x1         y        \n",
       "1 1   47.00774  0.3003487  57.90879\n",
       "2 2   58.86894 23.3893148 139.03688\n",
       "3 3   55.57487  9.3985674  93.77057\n",
       "4 4   51.54298  5.2412200  77.26664\n",
       "5 5   49.23160  4.6296740  73.12062\n",
       "6 6   51.38015 21.6645190 126.37371"
      ]
     },
     "metadata": {},
     "output_type": "display_data"
    }
   ],
   "source": [
    "resit<-resit %>%\n",
    "mutate(y= 10+3 *x1 + e)\n",
    "head(resit)"
   ]
  },
  {
   "cell_type": "code",
   "execution_count": null,
   "metadata": {},
   "outputs": [],
   "source": []
  },
  {
   "cell_type": "markdown",
   "metadata": {},
   "source": [
    "## Regression \n",
    "\n",
    "You will now have to run a regression with y as a function of x1. Show the summary statistics."
   ]
  },
  {
   "cell_type": "code",
   "execution_count": 17,
   "metadata": {},
   "outputs": [
    {
     "data": {
      "text/plain": [
       "      Obs               e               x1                y         \n",
       " Min.   :  1.00   Min.   :37.91   Min.   : 0.3004   Min.   : 56.93  \n",
       " 1st Qu.: 25.75   1st Qu.:47.36   1st Qu.: 8.7019   1st Qu.: 84.86  \n",
       " Median : 50.50   Median :50.07   Median :18.0870   Median :115.49  \n",
       " Mean   : 50.50   Mean   :50.10   Mean   :16.8852   Mean   :110.76  \n",
       " 3rd Qu.: 75.25   3rd Qu.:53.42   3rd Qu.:24.5359   3rd Qu.:133.42  \n",
       " Max.   :100.00   Max.   :59.55   Max.   :32.9964   Max.   :165.94  "
      ]
     },
     "metadata": {},
     "output_type": "display_data"
    }
   ],
   "source": [
    "y <- lm(data=resit, y ~ x1)\n",
    "summary(resit)"
   ]
  },
  {
   "cell_type": "markdown",
   "metadata": {},
   "source": [
    "## Plot\n",
    "\n",
    "Now you have to make a scatter plot of the data:\n",
    "\n",
    "* with x1 on the x-axis\n",
    "* y on the y-axis\n",
    "* the regression line in green, with confidence interval\n",
    "* in a light theme"
   ]
  },
  {
   "cell_type": "code",
   "execution_count": 20,
   "metadata": {},
   "outputs": [
    {
     "data": {},
     "metadata": {},
     "output_type": "display_data"
    },
    {
     "data": {
      "image/png": "[encoded data removed]",
      "text/plain": [
       "plot without title"
      ]
     },
     "metadata": {},
     "output_type": "display_data"
    }
   ],
   "source": [
    "ggplot(resit, aes(x = x1, y = y)) + theme_light() + geom_line(color = 'green', size = 3) + ylab('y') + xlab('x1')\n",
    "\n"
   ]
  },
  {
   "cell_type": "code",
   "execution_count": null,
   "metadata": {},
   "outputs": [],
   "source": []
  }
 ],
 "metadata": {
  "kernelspec": {
   "display_name": "R",
   "language": "R",
   "name": "ir"
  },
  "language_info": {
   "codemirror_mode": "r",
   "file_extension": ".r",
   "mimetype": "text/x-r-source",
   "name": "R",
   "pygments_lexer": "r",
   "version": "3.4.3"
  }
 },
 "nbformat": 4,
 "nbformat_minor": 2
}
